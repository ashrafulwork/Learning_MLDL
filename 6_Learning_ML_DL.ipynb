{
  "nbformat": 4,
  "nbformat_minor": 0,
  "metadata": {
    "colab": {
      "provenance": [],
      "include_colab_link": true
    },
    "kernelspec": {
      "name": "python3",
      "display_name": "Python 3"
    },
    "language_info": {
      "name": "python"
    }
  },
  "cells": [
    {
      "cell_type": "markdown",
      "metadata": {
        "id": "view-in-github",
        "colab_type": "text"
      },
      "source": [
        "<a href=\"https://colab.research.google.com/github/ashrafulwork/Learning_MLDL/blob/Project_ML_DL_/6_Learning_ML_DL.ipynb\" target=\"_parent\"><img src=\"https://colab.research.google.com/assets/colab-badge.svg\" alt=\"Open In Colab\"/></a>"
      ]
    },
    {
      "cell_type": "code",
      "source": [
        "import math"
      ],
      "metadata": {
        "id": "vI4hnmY9A9Vn"
      },
      "execution_count": null,
      "outputs": []
    },
    {
      "cell_type": "markdown",
      "source": [
        "**Sigmoid Activation Function:**"
      ],
      "metadata": {
        "id": "aIykXT21AZ3c"
      }
    },
    {
      "cell_type": "markdown",
      "source": [
        "$$\n",
        "\\sigma(x) = \\frac{1}{1 + e^{-x}}\n",
        "$$"
      ],
      "metadata": {
        "id": "9nW9xxDtAfQ-"
      }
    },
    {
      "cell_type": "code",
      "source": [
        "def sigmoid(x):\n",
        "  return 1 / (1 + math.exp(-x))"
      ],
      "metadata": {
        "id": "2nggWNyHGRFw"
      },
      "execution_count": null,
      "outputs": []
    },
    {
      "cell_type": "code",
      "source": [
        "sigmoid_op = sigmoid(100)\n",
        "print(sigmoid_op)"
      ],
      "metadata": {
        "colab": {
          "base_uri": "https://localhost:8080/"
        },
        "id": "91yqXu9OP5Xl",
        "outputId": "c06576f6-bb30-42b4-b9ba-32227f71f07f"
      },
      "execution_count": null,
      "outputs": [
        {
          "output_type": "stream",
          "name": "stdout",
          "text": [
            "1.0\n"
          ]
        }
      ]
    },
    {
      "cell_type": "markdown",
      "source": [
        "**ReLU Activation Function**"
      ],
      "metadata": {
        "id": "3gu51gWeDcnL"
      }
    },
    {
      "cell_type": "markdown",
      "source": [
        "$$\n",
        "\\text{ReLU}(x) = \\max(0, x)\n",
        "$$\n"
      ],
      "metadata": {
        "id": "qQDBveXiDiTv"
      }
    },
    {
      "cell_type": "code",
      "source": [
        "def relu(x):\n",
        "  return x if x>0 else 0"
      ],
      "metadata": {
        "id": "uPO9pNyTGSw9"
      },
      "execution_count": null,
      "outputs": []
    },
    {
      "cell_type": "code",
      "source": [
        "relu_output = relu(-20)\n",
        "print(relu_output)"
      ],
      "metadata": {
        "colab": {
          "base_uri": "https://localhost:8080/"
        },
        "id": "ogqj8wjCQjDN",
        "outputId": "d4366234-352a-4e78-aeeb-22f3e4ced9cc"
      },
      "execution_count": null,
      "outputs": [
        {
          "output_type": "stream",
          "name": "stdout",
          "text": [
            "0\n"
          ]
        }
      ]
    },
    {
      "cell_type": "markdown",
      "source": [
        "**tanh Activation Function**"
      ],
      "metadata": {
        "id": "UikBvKWXD6W_"
      }
    },
    {
      "cell_type": "markdown",
      "source": [
        "$$\n",
        "\\tanh(x) = \\frac{e^{x} - e^{-x}}{e^{x} + e^{-x}}\n",
        "$$\n"
      ],
      "metadata": {
        "id": "x-bCs1DUD-40"
      }
    },
    {
      "cell_type": "code",
      "source": [
        "def tanh(x):\n",
        "  return (math.exp(x) - math.exp(-x)) / (math.exp(x) + math.exp(-x))"
      ],
      "metadata": {
        "id": "JV_J-YP3GTLM"
      },
      "execution_count": null,
      "outputs": []
    },
    {
      "cell_type": "code",
      "source": [
        "tanh_op = tanh(100)\n",
        "print(tanh_op)"
      ],
      "metadata": {
        "colab": {
          "base_uri": "https://localhost:8080/"
        },
        "id": "9XJtEVvARHTX",
        "outputId": "172f31f0-e0f2-4d46-874a-7f8e89cdf048"
      },
      "execution_count": null,
      "outputs": [
        {
          "output_type": "stream",
          "name": "stdout",
          "text": [
            "1.0\n"
          ]
        }
      ]
    },
    {
      "cell_type": "markdown",
      "source": [
        "**Softmax Activation function**"
      ],
      "metadata": {
        "id": "sukc7hX2ELCn"
      }
    },
    {
      "cell_type": "markdown",
      "source": [
        "$$\n",
        "\\text{softmax}(x)_i = \\frac{e^{x_i}}{\\sum_{j=1}^{n} e^{x_j}} \\quad \\text{for } i = 1, \\ldots, n\n",
        "$$\n"
      ],
      "metadata": {
        "id": "TpSqb8tYEex_"
      }
    },
    {
      "cell_type": "code",
      "source": [
        "def softmax(x):\n",
        "  # x --> list\n",
        "  exp_x = [math.exp(i) for i in x]\n",
        "  sum_exp_x = sum(exp_x)\n",
        "  # compute softmax for each element in x\n",
        "  return [j / sum_exp_x for j in exp_x]"
      ],
      "metadata": {
        "id": "2qWhoWP8F5yD"
      },
      "execution_count": null,
      "outputs": []
    },
    {
      "cell_type": "code",
      "source": [
        "softmax_op = softmax([2, 1, -1])\n",
        "print(softmax_op)"
      ],
      "metadata": {
        "colab": {
          "base_uri": "https://localhost:8080/"
        },
        "id": "3cZ9kf4PRm7g",
        "outputId": "7342bbe8-9de4-4dde-f105-397adf5a75b9"
      },
      "execution_count": null,
      "outputs": [
        {
          "output_type": "stream",
          "name": "stdout",
          "text": [
            "[0.7053845126982412, 0.2594964603424191, 0.03511902695933972]\n"
          ]
        }
      ]
    },
    {
      "cell_type": "code",
      "source": [],
      "metadata": {
        "id": "6Trvgdd6R-Zo"
      },
      "execution_count": null,
      "outputs": []
    }
  ]
}