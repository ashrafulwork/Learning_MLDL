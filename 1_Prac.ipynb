{
  "nbformat": 4,
  "nbformat_minor": 0,
  "metadata": {
    "colab": {
      "provenance": [],
      "authorship_tag": "ABX9TyMWOs9nY857lwc22lUWsPXZ",
      "include_colab_link": true
    },
    "kernelspec": {
      "name": "python3",
      "display_name": "Python 3"
    },
    "language_info": {
      "name": "python"
    }
  },
  "cells": [
    {
      "cell_type": "markdown",
      "metadata": {
        "id": "view-in-github",
        "colab_type": "text"
      },
      "source": [
        "<a href=\"https://colab.research.google.com/github/ashrafulwork/Learning_MLDL/blob/ML_DL/1_Prac.ipynb\" target=\"_parent\"><img src=\"https://colab.research.google.com/assets/colab-badge.svg\" alt=\"Open In Colab\"/></a>"
      ]
    },
    {
      "cell_type": "code",
      "source": [
        "import pandas as pd\n",
        "import matplotlib.pyplot as plt\n",
        "import seaborn as sns"
      ],
      "metadata": {
        "id": "9AUuOxWPVdtF"
      },
      "execution_count": null,
      "outputs": []
    },
    {
      "cell_type": "code",
      "source": [
        "dataset = pd.read_csv('/content/Placement_Dataset.csv')"
      ],
      "metadata": {
        "id": "q1pLWFlEVep1"
      },
      "execution_count": null,
      "outputs": []
    },
    {
      "cell_type": "code",
      "source": [
        "dataset.info()"
      ],
      "metadata": {
        "colab": {
          "base_uri": "https://localhost:8080/"
        },
        "id": "WzlPqkYNV4ZU",
        "outputId": "d87823cf-268f-40e4-ffa8-9b40965a0497"
      },
      "execution_count": null,
      "outputs": [
        {
          "output_type": "stream",
          "name": "stdout",
          "text": [
            "<class 'pandas.core.frame.DataFrame'>\n",
            "RangeIndex: 215 entries, 0 to 214\n",
            "Data columns (total 15 columns):\n",
            " #   Column          Non-Null Count  Dtype  \n",
            "---  ------          --------------  -----  \n",
            " 0   sl_no           215 non-null    int64  \n",
            " 1   gender          215 non-null    object \n",
            " 2   ssc_p           215 non-null    float64\n",
            " 3   ssc_b           215 non-null    object \n",
            " 4   hsc_p           215 non-null    float64\n",
            " 5   hsc_b           215 non-null    object \n",
            " 6   hsc_s           215 non-null    object \n",
            " 7   degree_p        215 non-null    float64\n",
            " 8   degree_t        215 non-null    object \n",
            " 9   workex          215 non-null    object \n",
            " 10  etest_p         215 non-null    float64\n",
            " 11  specialisation  215 non-null    object \n",
            " 12  mba_p           215 non-null    float64\n",
            " 13  status          215 non-null    object \n",
            " 14  salary          148 non-null    float64\n",
            "dtypes: float64(6), int64(1), object(8)\n",
            "memory usage: 25.3+ KB\n"
          ]
        }
      ]
    },
    {
      "cell_type": "code",
      "source": [
        "print(dataset)"
      ],
      "metadata": {
        "colab": {
          "base_uri": "https://localhost:8080/"
        },
        "id": "Gv8y3DdyV8my",
        "outputId": "7ccd8d21-d15f-4f5f-b7d0-7cf787c12bbc"
      },
      "execution_count": null,
      "outputs": [
        {
          "output_type": "stream",
          "name": "stdout",
          "text": [
            "     sl_no gender  ssc_p    ssc_b  hsc_p    hsc_b     hsc_s  degree_p  \\\n",
            "0        1      M  67.00   Others  91.00   Others  Commerce     58.00   \n",
            "1        2      M  79.33  Central  78.33   Others   Science     77.48   \n",
            "2        3      M  65.00  Central  68.00  Central      Arts     64.00   \n",
            "3        4      M  56.00  Central  52.00  Central   Science     52.00   \n",
            "4        5      M  85.80  Central  73.60  Central  Commerce     73.30   \n",
            "..     ...    ...    ...      ...    ...      ...       ...       ...   \n",
            "210    211      M  80.60   Others  82.00   Others  Commerce     77.60   \n",
            "211    212      M  58.00   Others  60.00   Others   Science     72.00   \n",
            "212    213      M  67.00   Others  67.00   Others  Commerce     73.00   \n",
            "213    214      F  74.00   Others  66.00   Others  Commerce     58.00   \n",
            "214    215      M  62.00  Central  58.00   Others   Science     53.00   \n",
            "\n",
            "      degree_t workex  etest_p specialisation  mba_p      status    salary  \n",
            "0     Sci&Tech     No     55.0         Mkt&HR  58.80      Placed  270000.0  \n",
            "1     Sci&Tech    Yes     86.5        Mkt&Fin  66.28      Placed  200000.0  \n",
            "2    Comm&Mgmt     No     75.0        Mkt&Fin  57.80      Placed  250000.0  \n",
            "3     Sci&Tech     No     66.0         Mkt&HR  59.43  Not Placed       NaN  \n",
            "4    Comm&Mgmt     No     96.8        Mkt&Fin  55.50      Placed  425000.0  \n",
            "..         ...    ...      ...            ...    ...         ...       ...  \n",
            "210  Comm&Mgmt     No     91.0        Mkt&Fin  74.49      Placed  400000.0  \n",
            "211   Sci&Tech     No     74.0        Mkt&Fin  53.62      Placed  275000.0  \n",
            "212  Comm&Mgmt    Yes     59.0        Mkt&Fin  69.72      Placed  295000.0  \n",
            "213  Comm&Mgmt     No     70.0         Mkt&HR  60.23      Placed  204000.0  \n",
            "214  Comm&Mgmt     No     89.0         Mkt&HR  60.22  Not Placed       NaN  \n",
            "\n",
            "[215 rows x 15 columns]\n"
          ]
        }
      ]
    },
    {
      "cell_type": "code",
      "source": [
        "print(dataset.head())\n",
        "print(dataset.info())"
      ],
      "metadata": {
        "colab": {
          "base_uri": "https://localhost:8080/"
        },
        "id": "FskXBCTHXKkC",
        "outputId": "7f95ca04-5a36-4d3a-c195-8ec8f86c00e0"
      },
      "execution_count": null,
      "outputs": [
        {
          "output_type": "stream",
          "name": "stdout",
          "text": [
            "   sl_no gender  ssc_p    ssc_b  hsc_p    hsc_b     hsc_s  degree_p  \\\n",
            "0      1      M  67.00   Others  91.00   Others  Commerce     58.00   \n",
            "1      2      M  79.33  Central  78.33   Others   Science     77.48   \n",
            "2      3      M  65.00  Central  68.00  Central      Arts     64.00   \n",
            "3      4      M  56.00  Central  52.00  Central   Science     52.00   \n",
            "4      5      M  85.80  Central  73.60  Central  Commerce     73.30   \n",
            "\n",
            "    degree_t workex  etest_p specialisation  mba_p      status    salary  \n",
            "0   Sci&Tech     No     55.0         Mkt&HR  58.80      Placed  270000.0  \n",
            "1   Sci&Tech    Yes     86.5        Mkt&Fin  66.28      Placed  200000.0  \n",
            "2  Comm&Mgmt     No     75.0        Mkt&Fin  57.80      Placed  250000.0  \n",
            "3   Sci&Tech     No     66.0         Mkt&HR  59.43  Not Placed       NaN  \n",
            "4  Comm&Mgmt     No     96.8        Mkt&Fin  55.50      Placed  425000.0  \n",
            "<class 'pandas.core.frame.DataFrame'>\n",
            "RangeIndex: 215 entries, 0 to 214\n",
            "Data columns (total 15 columns):\n",
            " #   Column          Non-Null Count  Dtype  \n",
            "---  ------          --------------  -----  \n",
            " 0   sl_no           215 non-null    int64  \n",
            " 1   gender          215 non-null    object \n",
            " 2   ssc_p           215 non-null    float64\n",
            " 3   ssc_b           215 non-null    object \n",
            " 4   hsc_p           215 non-null    float64\n",
            " 5   hsc_b           215 non-null    object \n",
            " 6   hsc_s           215 non-null    object \n",
            " 7   degree_p        215 non-null    float64\n",
            " 8   degree_t        215 non-null    object \n",
            " 9   workex          215 non-null    object \n",
            " 10  etest_p         215 non-null    float64\n",
            " 11  specialisation  215 non-null    object \n",
            " 12  mba_p           215 non-null    float64\n",
            " 13  status          215 non-null    object \n",
            " 14  salary          148 non-null    float64\n",
            "dtypes: float64(6), int64(1), object(8)\n",
            "memory usage: 25.3+ KB\n",
            "None\n"
          ]
        }
      ]
    },
    {
      "cell_type": "code",
      "source": [
        "print(dataset.dtypes)\n"
      ],
      "metadata": {
        "colab": {
          "base_uri": "https://localhost:8080/"
        },
        "id": "slODiF9UXWLl",
        "outputId": "11f62a96-ef3b-453e-a719-126c4afefc69"
      },
      "execution_count": null,
      "outputs": [
        {
          "output_type": "stream",
          "name": "stdout",
          "text": [
            "sl_no               int64\n",
            "gender             object\n",
            "ssc_p             float64\n",
            "ssc_b              object\n",
            "hsc_p             float64\n",
            "hsc_b              object\n",
            "hsc_s              object\n",
            "degree_p          float64\n",
            "degree_t           object\n",
            "workex             object\n",
            "etest_p           float64\n",
            "specialisation     object\n",
            "mba_p             float64\n",
            "status             object\n",
            "salary            float64\n",
            "dtype: object\n"
          ]
        }
      ]
    },
    {
      "cell_type": "code",
      "source": [],
      "metadata": {
        "id": "255BhEjvYiX3"
      },
      "execution_count": null,
      "outputs": []
    },
    {
      "cell_type": "code",
      "execution_count": null,
      "metadata": {
        "id": "5rPRpG_UHMvm",
        "colab": {
          "base_uri": "https://localhost:8080/",
          "height": 696
        },
        "outputId": "c28b2d6c-3506-466f-95f6-cbeebd6a78f7"
      },
      "outputs": [
        {
          "output_type": "display_data",
          "data": {
            "text/plain": [
              "<Figure size 800x800 with 1 Axes>"
            ],
            "image/png": "[encoded data removed]"
          },
          "metadata": {}
        }
      ],
      "source": [
        "# plt.figure(figsize=(8,8))\n",
        "# sns.boxplot(data = dataset, y=\"gender\",x='salary')\n",
        "# plt.show()\n",
        "\n",
        "\n",
        "plt.figure(figsize=(8,8))\n",
        "sns.boxplot(data=dataset, x='salary', y='hsc_s')\n",
        "plt.show()\n",
        "\n"
      ]
    },
    {
      "cell_type": "code",
      "source": [
        "import pandas as pd\n",
        "from sklearn.preprocessing import LabelEncoder"
      ],
      "metadata": {
        "id": "pd43mfpBdR57"
      },
      "execution_count": null,
      "outputs": []
    },
    {
      "cell_type": "code",
      "source": [
        "# label_encoder = LabelEncoder()\n",
        "# dataset['gender'] = label_encoder.fit_transform(dataset['gender'])\n",
        "# dataset['ssc_b'] = label_encoder.fit_transform(dataset['ssc_b'])\n",
        "# dataset['hsc_b'] = label_encoder.fit_transform(dataset['hsc_b'])\n",
        "# dataset['hsc_s'] = label_encoder.fit_transform(dataset['hsc_s'])\n",
        "# dataset['degree_t'] = label_encoder.fit_transform(dataset['degree_t'])\n",
        "# dataset['workex'] = label_encoder.fit_transform(dataset['workex'])\n",
        "# dataset['specialisation'] = label_encoder.fit_transform(dataset['specialisation'])\n",
        "# dataset['status'] = label_encoder.fit_transform(dataset['status'])"
      ],
      "metadata": {
        "id": "LdGJtVj_dIUq"
      },
      "execution_count": null,
      "outputs": []
    },
    {
      "cell_type": "code",
      "source": [
        "# dataset['gender'].fillna(dataset['gender'].median(), inplace=True)\n",
        "# dataset['ssc_b'].fillna(dataset['ssc_b'].median(), inplace=True)\n",
        "# dataset['hsc_b'].fillna(dataset['hsc_b'].median(), inplace=True)\n",
        "# dataset['hsc_s'].fillna(dataset['hsc_s'].median(), inplace=True)\n",
        "# dataset['degree_t'].fillna(dataset['degree_t'].median(), inplace=True)\n",
        "# dataset['workex'].fillna(dataset['workex'].median(), inplace=True)\n",
        "# dataset['specialisation'].fillna(dataset['specialisation'].median(), inplace=True)\n",
        "# dataset['status'].fillna(dataset['status'].median(), inplace=True)\n"
      ],
      "metadata": {
        "id": "VhW0SzqGcxGt"
      },
      "execution_count": null,
      "outputs": []
    },
    {
      "cell_type": "code",
      "source": [
        "from sklearn.preprocessing import LabelEncoder\n",
        "\n",
        "# List of columns to encode and fill missing values\n",
        "label_cols = ['gender', 'ssc_b', 'hsc_b', 'hsc_s', 'degree_t', 'workex', 'specialisation', 'status']\n",
        "\n",
        "# Initialize label encoder\n",
        "label_encoder = LabelEncoder()\n",
        "\n",
        "# Apply label encoding and fill missing values\n",
        "for col in label_cols:\n",
        "    dataset[col] = label_encoder.fit_transform(dataset[col])\n",
        "    dataset[col].fillna(dataset[col].median(), inplace=True)\n"
      ],
      "metadata": {
        "id": "83JNCh20egGm"
      },
      "execution_count": null,
      "outputs": []
    },
    {
      "cell_type": "code",
      "source": [
        "print(dataset.dtypes)"
      ],
      "metadata": {
        "colab": {
          "base_uri": "https://localhost:8080/"
        },
        "id": "5zrJo3dodoUN",
        "outputId": "0bf4a697-7ce7-417a-a71d-37b7818d6dfd"
      },
      "execution_count": null,
      "outputs": [
        {
          "output_type": "stream",
          "name": "stdout",
          "text": [
            "sl_no               int64\n",
            "gender              int64\n",
            "ssc_p             float64\n",
            "ssc_b               int64\n",
            "hsc_p             float64\n",
            "hsc_b               int64\n",
            "hsc_s               int64\n",
            "degree_p          float64\n",
            "degree_t            int64\n",
            "workex              int64\n",
            "etest_p           float64\n",
            "specialisation      int64\n",
            "mba_p             float64\n",
            "status              int64\n",
            "salary            float64\n",
            "dtype: object\n"
          ]
        }
      ]
    },
    {
      "cell_type": "code",
      "source": [
        "dataset = dataset.astype(float)"
      ],
      "metadata": {
        "id": "vLdSqmoHfKCX"
      },
      "execution_count": null,
      "outputs": []
    },
    {
      "cell_type": "code",
      "source": [
        "dataset['gender'].value_counts()"
      ],
      "metadata": {
        "colab": {
          "base_uri": "https://localhost:8080/",
          "height": 178
        },
        "id": "a_S4FAIGfwQu",
        "outputId": "e7c55375-027e-43f2-ccf3-a56c11599034"
      },
      "execution_count": null,
      "outputs": [
        {
          "output_type": "execute_result",
          "data": {
            "text/plain": [
              "gender\n",
              "1.0    139\n",
              "0.0     76\n",
              "Name: count, dtype: int64"
            ],
            "text/html": [
              "<div>\n",
              "<style scoped>\n",
              "    .dataframe tbody tr th:only-of-type {\n",
              "        vertical-align: middle;\n",
              "    }\n",
              "\n",
              "    .dataframe tbody tr th {\n",
              "        vertical-align: top;\n",
              "    }\n",
              "\n",
              "    .dataframe thead th {\n",
              "        text-align: right;\n",
              "    }\n",
              "</style>\n",
              "<table border=\"1\" class=\"dataframe\">\n",
              "  <thead>\n",
              "    <tr style=\"text-align: right;\">\n",
              "      <th></th>\n",
              "      <th>count</th>\n",
              "    </tr>\n",
              "    <tr>\n",
              "      <th>gender</th>\n",
              "      <th></th>\n",
              "    </tr>\n",
              "  </thead>\n",
              "  <tbody>\n",
              "    <tr>\n",
              "      <th>1.0</th>\n",
              "      <td>139</td>\n",
              "    </tr>\n",
              "    <tr>\n",
              "      <th>0.0</th>\n",
              "      <td>76</td>\n",
              "    </tr>\n",
              "  </tbody>\n",
              "</table>\n",
              "</div><br><label><b>dtype:</b> int64</label>"
            ]
          },
          "metadata": {},
          "execution_count": 46
        }
      ]
    },
    {
      "cell_type": "code",
      "source": [
        "dataset.info()"
      ],
      "metadata": {
        "colab": {
          "base_uri": "https://localhost:8080/"
        },
        "id": "ePZKh7rmgB4U",
        "outputId": "8c5981ca-9482-4ef7-d471-8d20f2ee8fbb"
      },
      "execution_count": null,
      "outputs": [
        {
          "output_type": "stream",
          "name": "stdout",
          "text": [
            "<class 'pandas.core.frame.DataFrame'>\n",
            "RangeIndex: 215 entries, 0 to 214\n",
            "Data columns (total 15 columns):\n",
            " #   Column          Non-Null Count  Dtype  \n",
            "---  ------          --------------  -----  \n",
            " 0   sl_no           215 non-null    float64\n",
            " 1   gender          215 non-null    float64\n",
            " 2   ssc_p           215 non-null    float64\n",
            " 3   ssc_b           215 non-null    float64\n",
            " 4   hsc_p           215 non-null    float64\n",
            " 5   hsc_b           215 non-null    float64\n",
            " 6   hsc_s           215 non-null    float64\n",
            " 7   degree_p        215 non-null    float64\n",
            " 8   degree_t        215 non-null    float64\n",
            " 9   workex          215 non-null    float64\n",
            " 10  etest_p         215 non-null    float64\n",
            " 11  specialisation  215 non-null    float64\n",
            " 12  mba_p           215 non-null    float64\n",
            " 13  status          215 non-null    float64\n",
            " 14  salary          148 non-null    float64\n",
            "dtypes: float64(15)\n",
            "memory usage: 25.3 KB\n"
          ]
        }
      ]
    },
    {
      "cell_type": "code",
      "source": [
        "dataset.isnull().sum()"
      ],
      "metadata": {
        "colab": {
          "base_uri": "https://localhost:8080/",
          "height": 554
        },
        "id": "RNwsBHUaf9_3",
        "outputId": "eac098d4-8c1a-4b42-c389-33be967a917e"
      },
      "execution_count": null,
      "outputs": [
        {
          "output_type": "execute_result",
          "data": {
            "text/plain": [
              "sl_no              0\n",
              "gender             0\n",
              "ssc_p              0\n",
              "ssc_b              0\n",
              "hsc_p              0\n",
              "hsc_b              0\n",
              "hsc_s              0\n",
              "degree_p           0\n",
              "degree_t           0\n",
              "workex             0\n",
              "etest_p            0\n",
              "specialisation     0\n",
              "mba_p              0\n",
              "status             0\n",
              "salary            67\n",
              "dtype: int64"
            ],
            "text/html": [
              "<div>\n",
              "<style scoped>\n",
              "    .dataframe tbody tr th:only-of-type {\n",
              "        vertical-align: middle;\n",
              "    }\n",
              "\n",
              "    .dataframe tbody tr th {\n",
              "        vertical-align: top;\n",
              "    }\n",
              "\n",
              "    .dataframe thead th {\n",
              "        text-align: right;\n",
              "    }\n",
              "</style>\n",
              "<table border=\"1\" class=\"dataframe\">\n",
              "  <thead>\n",
              "    <tr style=\"text-align: right;\">\n",
              "      <th></th>\n",
              "      <th>0</th>\n",
              "    </tr>\n",
              "  </thead>\n",
              "  <tbody>\n",
              "    <tr>\n",
              "      <th>sl_no</th>\n",
              "      <td>0</td>\n",
              "    </tr>\n",
              "    <tr>\n",
              "      <th>gender</th>\n",
              "      <td>0</td>\n",
              "    </tr>\n",
              "    <tr>\n",
              "      <th>ssc_p</th>\n",
              "      <td>0</td>\n",
              "    </tr>\n",
              "    <tr>\n",
              "      <th>ssc_b</th>\n",
              "      <td>0</td>\n",
              "    </tr>\n",
              "    <tr>\n",
              "      <th>hsc_p</th>\n",
              "      <td>0</td>\n",
              "    </tr>\n",
              "    <tr>\n",
              "      <th>hsc_b</th>\n",
              "      <td>0</td>\n",
              "    </tr>\n",
              "    <tr>\n",
              "      <th>hsc_s</th>\n",
              "      <td>0</td>\n",
              "    </tr>\n",
              "    <tr>\n",
              "      <th>degree_p</th>\n",
              "      <td>0</td>\n",
              "    </tr>\n",
              "    <tr>\n",
              "      <th>degree_t</th>\n",
              "      <td>0</td>\n",
              "    </tr>\n",
              "    <tr>\n",
              "      <th>workex</th>\n",
              "      <td>0</td>\n",
              "    </tr>\n",
              "    <tr>\n",
              "      <th>etest_p</th>\n",
              "      <td>0</td>\n",
              "    </tr>\n",
              "    <tr>\n",
              "      <th>specialisation</th>\n",
              "      <td>0</td>\n",
              "    </tr>\n",
              "    <tr>\n",
              "      <th>mba_p</th>\n",
              "      <td>0</td>\n",
              "    </tr>\n",
              "    <tr>\n",
              "      <th>status</th>\n",
              "      <td>0</td>\n",
              "    </tr>\n",
              "    <tr>\n",
              "      <th>salary</th>\n",
              "      <td>67</td>\n",
              "    </tr>\n",
              "  </tbody>\n",
              "</table>\n",
              "</div><br><label><b>dtype:</b> int64</label>"
            ]
          },
          "metadata": {},
          "execution_count": 47
        }
      ]
    },
    {
      "cell_type": "code",
      "source": [
        "print(dataset.dtypes)"
      ],
      "metadata": {
        "colab": {
          "base_uri": "https://localhost:8080/"
        },
        "id": "p_Yur_QEfkbQ",
        "outputId": "22343fd9-6bd2-4a5c-f5ac-1c15c3873e40"
      },
      "execution_count": null,
      "outputs": [
        {
          "output_type": "stream",
          "name": "stdout",
          "text": [
            "sl_no             float64\n",
            "gender            float64\n",
            "ssc_p             float64\n",
            "ssc_b             float64\n",
            "hsc_p             float64\n",
            "hsc_b             float64\n",
            "hsc_s             float64\n",
            "degree_p          float64\n",
            "degree_t          float64\n",
            "workex            float64\n",
            "etest_p           float64\n",
            "specialisation    float64\n",
            "mba_p             float64\n",
            "status            float64\n",
            "salary            float64\n",
            "dtype: object\n"
          ]
        }
      ]
    },
    {
      "cell_type": "code",
      "source": [
        "dataset['workex'].unique()"
      ],
      "metadata": {
        "colab": {
          "base_uri": "https://localhost:8080/"
        },
        "id": "Ph96FzkHgfdS",
        "outputId": "f05f3c83-dc33-4443-b0d4-0d23677540c1"
      },
      "execution_count": null,
      "outputs": [
        {
          "output_type": "execute_result",
          "data": {
            "text/plain": [
              "array([0., 1.])"
            ]
          },
          "metadata": {},
          "execution_count": 56
        }
      ]
    },
    {
      "cell_type": "code",
      "source": [],
      "metadata": {
        "id": "JiX2WQgajHex"
      },
      "execution_count": null,
      "outputs": []
    }
  ]
}